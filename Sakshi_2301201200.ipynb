{
  "nbformat": 4,
  "nbformat_minor": 0,
  "metadata": {
    "colab": {
      "provenance": [],
      "authorship_tag": "ABX9TyOtu3TwGMLtcA+PpwuV1488",
      "include_colab_link": true
    },
    "kernelspec": {
      "name": "python3",
      "display_name": "Python 3"
    },
    "language_info": {
      "name": "python"
    }
  },
  "cells": [
    {
      "cell_type": "markdown",
      "metadata": {
        "id": "view-in-github",
        "colab_type": "text"
      },
      "source": [
        "<a href=\"https://colab.research.google.com/github/sakshi685/NLP-Assignments/blob/main/Sakshi_2301201200.ipynb\" target=\"_parent\"><img src=\"https://colab.research.google.com/assets/colab-badge.svg\" alt=\"Open In Colab\"/></a>"
      ]
    },
    {
      "cell_type": "markdown",
      "source": [
        "Assignment 1: Character-Level NLP"
      ],
      "metadata": {
        "id": "vV-iov-hf-Ao"
      }
    },
    {
      "cell_type": "code",
      "execution_count": null,
      "metadata": {
        "colab": {
          "base_uri": "https://localhost:8080/",
          "height": 581
        },
        "id": "ziYS7pcwf04Z",
        "outputId": "c39b80c1-35c6-4fae-b130-4faf2944024f"
      },
      "outputs": [
        {
          "output_type": "stream",
          "name": "stdout",
          "text": [
            "Top 10 most common characters: [('e', 21), ('t', 20), ('a', 19), ('s', 18), ('i', 17), ('n', 16), ('o', 10), ('l', 10), ('d', 10), ('r', 9)]\n"
          ]
        },
        {
          "output_type": "display_data",
          "data": {
            "text/plain": [
              "<Figure size 1000x600 with 1 Axes>"
            ],
            "image/png": "[encoded data removed]"
          },
          "metadata": {}
        }
      ],
      "source": [
        "from collections import Counter\n",
        "import matplotlib.pyplot as plt\n",
        "import string\n",
        "\n",
        "# 1. Input paragraph\n",
        "text = \"The quick brown fox jumps over the lazy dog. This is a classic pangram, often used to display fonts and test typewriters. NLP, a field of AI, helps machines understand human language. It is a very interesting field. Did you know that 123 is a number? Let's analyze this text.\"\n",
        "\n",
        "# 2. Tokenize into characters, remove punctuation and digits\n",
        "#    and count frequency\n",
        "chars = [c.lower() for c in text if c.isalpha()]\n",
        "freq = Counter(chars)\n",
        "\n",
        "# 3. Print the top 10 most common characters\n",
        "print(\"Top 10 most common characters:\", freq.most_common(10))\n",
        "\n",
        "# 4. Plot a bar chart\n",
        "top_10 = freq.most_common(10)\n",
        "characters = [c for c, _ in top_10]\n",
        "counts = [count for _, count in top_10]\n",
        "\n",
        "plt.figure(figsize=(10, 6))\n",
        "plt.bar(characters, counts, color='skyblue')\n",
        "plt.title('Top 10 Most Frequent Characters')\n",
        "plt.xlabel('Characters')\n",
        "plt.ylabel('Frequency')\n",
        "plt.show()"
      ]
    },
    {
      "cell_type": "markdown",
      "source": [
        "Assignment 2: News Classification with TF-IDF + SVM"
      ],
      "metadata": {
        "id": "zvq_oyeagO9s"
      }
    },
    {
      "cell_type": "code",
      "source": [
        "import pandas as pd\n",
        "from sklearn.feature_extraction.text import TfidfVectorizer\n",
        "from sklearn.model_selection import train_test_split\n",
        "from sklearn.svm import SVC\n",
        "from sklearn.metrics import accuracy_score, confusion_matrix, classification_report\n",
        "\n",
        "# 1. Create a sample dataset (or load from CSV)\n",
        "data = {\n",
        "    'text': [\n",
        "        \"President announces new policy.\",\n",
        "        \"Breaking: a new star discovered.\",\n",
        "        \"Exclusive report: inflation is rising.\",\n",
        "        \"Shocking headline: world peace achieved!\",\n",
        "        \"Local sports team wins big game.\",\n",
        "        \"This is totally fake news. Don't believe it.\",\n",
        "        \"Conspiracy theory about aliens.\",\n",
        "        \"Important announcement from NASA.\"\n",
        "    ],\n",
        "    'label': ['real', 'real', 'real', 'fake', 'real', 'fake', 'fake', 'real']\n",
        "}\n",
        "df = pd.DataFrame(data)\n",
        "\n",
        "# 2. Preprocess and convert text to TF-IDF vectors\n",
        "tfidf_vectorizer = TfidfVectorizer(stop_words='english', max_df=0.85)\n",
        "X = tfidf_vectorizer.fit_transform(df['text'])\n",
        "y = df['label']\n",
        "\n",
        "# Split data into training and testing sets\n",
        "X_train, X_test, y_train, y_test = train_test_split(X, y, test_size=0.3, random_state=42)\n",
        "\n",
        "# 3. Train a Support Vector Machine (SVM) classifier\n",
        "svm_classifier = SVC(kernel='linear')\n",
        "svm_classifier.fit(X_train, y_train)\n",
        "\n",
        "# 4. Make predictions and print results\n",
        "y_pred = svm_classifier.predict(X_test)\n",
        "print(\"Accuracy:\", accuracy_score(y_test, y_pred))\n",
        "print(\"\\nConfusion Matrix:\\n\", confusion_matrix(y_test, y_pred))\n",
        "print(\"\\nClassification Report:\\n\", classification_report(y_test, y_pred))"
      ],
      "metadata": {
        "colab": {
          "base_uri": "https://localhost:8080/"
        },
        "id": "_Tf7UGJvgQUo",
        "outputId": "6a9dd0b8-f2f5-4692-b6f0-2a5c460bcffb"
      },
      "execution_count": null,
      "outputs": [
        {
          "output_type": "stream",
          "name": "stdout",
          "text": [
            "Accuracy: 0.6666666666666666\n",
            "\n",
            "Confusion Matrix:\n",
            " [[0 1]\n",
            " [0 2]]\n",
            "\n",
            "Classification Report:\n",
            "               precision    recall  f1-score   support\n",
            "\n",
            "        fake       0.00      0.00      0.00         1\n",
            "        real       0.67      1.00      0.80         2\n",
            "\n",
            "    accuracy                           0.67         3\n",
            "   macro avg       0.33      0.50      0.40         3\n",
            "weighted avg       0.44      0.67      0.53         3\n",
            "\n"
          ]
        },
        {
          "output_type": "stream",
          "name": "stderr",
          "text": [
            "/usr/local/lib/python3.12/dist-packages/sklearn/metrics/_classification.py:1565: UndefinedMetricWarning: Precision is ill-defined and being set to 0.0 in labels with no predicted samples. Use `zero_division` parameter to control this behavior.\n",
            "  _warn_prf(average, modifier, f\"{metric.capitalize()} is\", len(result))\n",
            "/usr/local/lib/python3.12/dist-packages/sklearn/metrics/_classification.py:1565: UndefinedMetricWarning: Precision is ill-defined and being set to 0.0 in labels with no predicted samples. Use `zero_division` parameter to control this behavior.\n",
            "  _warn_prf(average, modifier, f\"{metric.capitalize()} is\", len(result))\n",
            "/usr/local/lib/python3.12/dist-packages/sklearn/metrics/_classification.py:1565: UndefinedMetricWarning: Precision is ill-defined and being set to 0.0 in labels with no predicted samples. Use `zero_division` parameter to control this behavior.\n",
            "  _warn_prf(average, modifier, f\"{metric.capitalize()} is\", len(result))\n"
          ]
        }
      ]
    },
    {
      "cell_type": "markdown",
      "source": [
        "Assignment 3: Text Generation with Markov Chains"
      ],
      "metadata": {
        "id": "L0v1Gfs6gWxT"
      }
    },
    {
      "cell_type": "code",
      "source": [
        "import random\n",
        "from collections import defaultdict\n",
        "\n",
        "# 1. Input text file content\n",
        "# For this example, we'll use a string. In a real scenario, you'd read a file.\n",
        "text = \"\"\"Once upon a time, in a far-off land, there lived a brave knight named Sir Reginald. He was known for his courage and his unwavering loyalty. The kingdom was under a dark spell, and only Sir Reginald could break it. He rode his trusty steed, searching for the enchanted sword. The journey was long and perilous, but he never gave up. Finally, he found the sword and vanquished the evil sorcerer, bringing peace back to the land.\"\"\"\n",
        "\n",
        "# Clean the text\n",
        "words = text.lower().replace('.', '').replace(',', '').split()\n",
        "\n",
        "# Build a bigram language model (Markov chain)\n",
        "model = defaultdict(list)\n",
        "for current_word, next_word in zip(words[:-1], words[1:]):\n",
        "    model[current_word].append(next_word)\n",
        "\n",
        "# 2. Generate 5 random sentences\n",
        "def generate_sentence(model, start_word=None, max_length=15):\n",
        "    if not start_word:\n",
        "        start_word = random.choice(list(model.keys()))\n",
        "\n",
        "    sentence = [start_word]\n",
        "    current_word = start_word\n",
        "\n",
        "    for _ in range(max_length - 1):\n",
        "        if current_word in model and model[current_word]:\n",
        "            next_word = random.choice(model[current_word])\n",
        "            sentence.append(next_word)\n",
        "            current_word = next_word\n",
        "        else:\n",
        "            break\n",
        "\n",
        "    return ' '.join(sentence)\n",
        "\n",
        "print(\"Generated Sentences:\")\n",
        "generated_sentences = []\n",
        "for _ in range(5):\n",
        "    sentence = generate_sentence(model)\n",
        "    generated_sentences.append(sentence)\n",
        "    print(sentence)\n",
        "\n",
        "# 3. Compare with original text length distribution\n",
        "original_sentence_lengths = [len(s.split()) for s in text.split('.')]\n",
        "generated_sentence_lengths = [len(s.split()) for s in generated_sentences]\n",
        "\n",
        "print(\"\\nOriginal Sentence Lengths:\", original_sentence_lengths)\n",
        "print(\"Generated Sentence Lengths:\", generated_sentence_lengths)\n",
        "print(f\"Original text has an average sentence length of {sum(original_sentence_lengths) / len(original_sentence_lengths):.2f} words.\")\n",
        "print(f\"Generated text has an average sentence length of {sum(generated_sentence_lengths) / len(generated_sentence_lengths):.2f} words.\")"
      ],
      "metadata": {
        "colab": {
          "base_uri": "https://localhost:8080/"
        },
        "id": "yTZbABe7gQYI",
        "outputId": "08a9b1c2-b7f9-4a10-8f48-1b883f060c12"
      },
      "execution_count": null,
      "outputs": [
        {
          "output_type": "stream",
          "name": "stdout",
          "text": [
            "Generated Sentences:\n",
            "for the kingdom was under a far-off land there lived a far-off land there lived\n",
            "courage and perilous but he never gave up finally he found the evil sorcerer bringing\n",
            "only sir reginald he never gave up finally he found the sword and only sir\n",
            "lived a brave knight named sir reginald could break it he never gave up finally\n",
            "but he found the journey was known for his unwavering loyalty the land there lived\n",
            "\n",
            "Original Sentence Lengths: [16, 10, 14, 10, 11, 16, 0]\n",
            "Generated Sentence Lengths: [15, 15, 15, 15, 15]\n",
            "Original text has an average sentence length of 11.00 words.\n",
            "Generated text has an average sentence length of 15.00 words.\n"
          ]
        }
      ]
    }
  ]
}